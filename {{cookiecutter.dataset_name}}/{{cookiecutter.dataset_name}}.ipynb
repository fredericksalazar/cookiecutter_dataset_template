{
 "cells": [
  {
   "cell_type": "markdown",
   "metadata": {},
   "source": [
    "# NoteBook Ingest dataset {{cookiecutter.dataset_name}}\n",
    "\n",
    "***Author:*** {{cookiecutter.author}} <br>\n",
    "***Data Source:*** {{cookiecutter.source}} <br>\n",
    "***Description:*** {{cookiecutter.dataset_description}}"
   ]
  },
  {
   "cell_type": "markdown",
   "metadata": {},
   "source": [
    "## Importations and configurations"
   ]
  },
  {
   "cell_type": "code",
   "execution_count": 72,
   "metadata": {},
   "outputs": [],
   "source": [
    "#library importations\n",
    "\n",
    "import pandas as pd\n",
    "\n",
    "import os\n",
    "import requests\n",
    "import zipfile\n",
    "from io import BytesIO\n",
    "\n",
    "version = 1.0"
   ]
  },
  {
   "cell_type": "code",
   "execution_count": 73,
   "metadata": {},
   "outputs": [],
   "source": [
    "raw = './data/raw'\n",
    "processed_data = './data/processed'\n",
    "output_data = './data/output'\n",
    "\n",
    "output_dataset = './data/processed/{{cookiecutter.dataset_name}}.csv'"
   ]
  },
  {
   "cell_type": "code",
   "execution_count": 74,
   "metadata": {},
   "outputs": [],
   "source": [
    "def donwload_data(data_source_in):\n",
    "    \"\"\"this function get files from url and save it in the raw folder\n",
    "\n",
    "    Args:\n",
    "        data_source_in (String): url of the file to download\n",
    "    \"\"\"\n",
    "    response = requests.get(data_source_in)\n",
    "\n",
    "    if response.status_code == 200:\n",
    "        # Leer el contenido del archivo ZIP en memoria\n",
    "        zip_file = BytesIO(response.content)\n",
    "        \n",
    "        # Descomprimir el contenido del ZIP directamente en el directorio\n",
    "        with zipfile.ZipFile(zip_file) as z:\n",
    "            z.extractall(raw)"
   ]
  },
  {
   "cell_type": "markdown",
   "metadata": {},
   "source": [
    "## Download and read data"
   ]
  },
  {
   "cell_type": "code",
   "execution_count": 75,
   "metadata": {},
   "outputs": [],
   "source": [
    "#here use the function to donwload data from url\n",
    "donwload_data('')"
   ]
  },
  {
   "attachments": {},
   "cell_type": "markdown",
   "metadata": {},
   "source": [
    "## load data"
   ]
  },
  {
   "cell_type": "code",
   "execution_count": 76,
   "metadata": {},
   "outputs": [],
   "source": [
    "for file in os.listdir(raw):\n",
    "    # Here write code to read data from raw folder"
   ]
  },
  {
   "attachments": {},
   "cell_type": "markdown",
   "metadata": {},
   "source": [
    "## Transform data"
   ]
  },
  {
   "cell_type": "markdown",
   "metadata": {},
   "source": [
    "## Save processed data"
   ]
  }
 ],
 "metadata": {
  "kernelspec": {
   "display_name": "data_analyst",
   "language": "python",
   "name": "python3"
  },
  "language_info": {
   "codemirror_mode": {
    "name": "ipython",
    "version": 3
   },
   "file_extension": ".py",
   "mimetype": "text/x-python",
   "name": "python",
   "nbconvert_exporter": "python",
   "pygments_lexer": "ipython3",
   "version": "3.10.16"
  },
  "orig_nbformat": 4
 },
 "nbformat": 4,
 "nbformat_minor": 2
}
